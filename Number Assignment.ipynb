{
 "cells": [
  {
   "cell_type": "code",
   "execution_count": 4,
   "id": "c9e22d90",
   "metadata": {},
   "outputs": [
    {
     "data": {
      "text/plain": [
       "'221'"
      ]
     },
     "execution_count": 4,
     "metadata": {},
     "output_type": "execute_result"
    }
   ],
   "source": [
    "# Assignment-1 Number\n",
    "#Remember the format() function we used in the last video?? Now pass 145 and ‘o’ in the function and see what it returns. Try to find out which representation it is.\n",
    "\n",
    "format(145,'o')"
   ]
  },
  {
   "cell_type": "code",
   "execution_count": 5,
   "id": "20d9ffd3",
   "metadata": {},
   "outputs": [],
   "source": [
    "# Assignment-2\n",
    "# There is a circular pond in a village. This pond has a radius of 84 meters. Can you find the area of the pond? \n",
    "#(Bonus: If there is exactly 1.4 liter of water in a square meter, what is the total amount of water in the pond?)\n",
    "\n",
    "# Hint:\n",
    "# Circle Area = 3.14 * r**2\n",
    "\n",
    "radius = 84\n",
    "\n",
    "area = 3.14 * 84**2"
   ]
  },
  {
   "cell_type": "code",
   "execution_count": 8,
   "id": "6474698f",
   "metadata": {},
   "outputs": [
    {
     "data": {
      "text/plain": [
       "22155.84"
      ]
     },
     "execution_count": 8,
     "metadata": {},
     "output_type": "execute_result"
    }
   ],
   "source": [
    "area"
   ]
  },
  {
   "cell_type": "code",
   "execution_count": 9,
   "id": "0bdbcaec",
   "metadata": {},
   "outputs": [
    {
     "name": "stdout",
     "output_type": "stream",
     "text": [
      "31018.176\n"
     ]
    }
   ],
   "source": [
    "per_sqt_mtr_watre = 1.4\n",
    "\n",
    "total_water = area * per_sqt_mtr_watre\n",
    "\n",
    "print(total_water)"
   ]
  },
  {
   "cell_type": "code",
   "execution_count": 10,
   "id": "744a9e74",
   "metadata": {},
   "outputs": [
    {
     "data": {
      "text/plain": [
       "1.1666666666666667"
      ]
     },
     "execution_count": 10,
     "metadata": {},
     "output_type": "execute_result"
    }
   ],
   "source": [
    "# Assignment-3\n",
    "# If you cross a 490-meter-long street in 7 minutes, then what is your speed in meters per second? Print your answer without any decimal point in it.\n",
    "\n",
    "# Hint:\n",
    "# Speed = Distance/Time\n",
    "\n",
    "time = 7 * 60 # time in seconds\n",
    "distance = 490\n",
    "\n",
    "speed = distance/time\n",
    "\n",
    "speed"
   ]
  },
  {
   "cell_type": "code",
   "execution_count": 11,
   "id": "e776c3af",
   "metadata": {},
   "outputs": [
    {
     "data": {
      "text/plain": [
       "'samosa,jalebi'"
      ]
     },
     "execution_count": 11,
     "metadata": {},
     "output_type": "execute_result"
    }
   ],
   "source": [
    "myfood = \"samosa,jalebi\"\n",
    "myfood"
   ]
  },
  {
   "cell_type": "code",
   "execution_count": 12,
   "id": "7ac43f0b",
   "metadata": {},
   "outputs": [
    {
     "data": {
      "text/plain": [
       "True"
      ]
     },
     "execution_count": 12,
     "metadata": {},
     "output_type": "execute_result"
    }
   ],
   "source": [
    "'salad' not in myfood"
   ]
  },
  {
   "cell_type": "code",
   "execution_count": 20,
   "id": "cafd9d25",
   "metadata": {},
   "outputs": [
    {
     "data": {
      "text/plain": [
       "\"sneha's favorite food is dal and rice\""
      ]
     },
     "execution_count": 20,
     "metadata": {},
     "output_type": "execute_result"
    }
   ],
   "source": [
    "#Example to use single quote inside string. Use the combination of double qutoes (\") and single quote(')\n",
    "food_story = \"sneha's favorite food is dal and rice\"\n",
    "food_story"
   ]
  },
  {
   "cell_type": "code",
   "execution_count": 21,
   "id": "3222c59e",
   "metadata": {},
   "outputs": [
    {
     "name": "stdout",
     "output_type": "stream",
     "text": [
      " I was hungry and looking for restarant.\n",
      "Found this awesome place.\n",
      "Will plan for sure to visit this place again.\n"
     ]
    }
   ],
   "source": [
    "# To add multi line string use thriple quotes\n",
    "food_review = ''' I was hungry and looking for restarant.\n",
    "Found this awesome place.\n",
    "Will plan for sure to visit this place again.'''\n",
    "\n",
    "print(food_review)"
   ]
  },
  {
   "cell_type": "code",
   "execution_count": 24,
   "id": "d6a235cb",
   "metadata": {},
   "outputs": [
    {
     "data": {
      "text/plain": [
       "'cost of lipstick is 250 rs.'"
      ]
     },
     "execution_count": 24,
     "metadata": {},
     "output_type": "execute_result"
    }
   ],
   "source": [
    "s = \"cost of lipstick is 250 rs.\"\n",
    "s"
   ]
  },
  {
   "cell_type": "code",
   "execution_count": 28,
   "id": "eca63d3b",
   "metadata": {},
   "outputs": [
    {
     "data": {
      "text/plain": [
       "'cost of lipstick is 150 rs.'"
      ]
     },
     "execution_count": 28,
     "metadata": {},
     "output_type": "execute_result"
    }
   ],
   "source": [
    "s = s.replace(\"250\",\"150\")\n",
    "s"
   ]
  },
  {
   "cell_type": "code",
   "execution_count": 30,
   "id": "f9f3197e",
   "metadata": {},
   "outputs": [
    {
     "data": {
      "text/plain": [
       "['__add__',\n",
       " '__class__',\n",
       " '__contains__',\n",
       " '__delattr__',\n",
       " '__dir__',\n",
       " '__doc__',\n",
       " '__eq__',\n",
       " '__format__',\n",
       " '__ge__',\n",
       " '__getattribute__',\n",
       " '__getitem__',\n",
       " '__getnewargs__',\n",
       " '__gt__',\n",
       " '__hash__',\n",
       " '__init__',\n",
       " '__init_subclass__',\n",
       " '__iter__',\n",
       " '__le__',\n",
       " '__len__',\n",
       " '__lt__',\n",
       " '__mod__',\n",
       " '__mul__',\n",
       " '__ne__',\n",
       " '__new__',\n",
       " '__reduce__',\n",
       " '__reduce_ex__',\n",
       " '__repr__',\n",
       " '__rmod__',\n",
       " '__rmul__',\n",
       " '__setattr__',\n",
       " '__sizeof__',\n",
       " '__str__',\n",
       " '__subclasshook__',\n",
       " 'capitalize',\n",
       " 'casefold',\n",
       " 'center',\n",
       " 'count',\n",
       " 'encode',\n",
       " 'endswith',\n",
       " 'expandtabs',\n",
       " 'find',\n",
       " 'format',\n",
       " 'format_map',\n",
       " 'index',\n",
       " 'isalnum',\n",
       " 'isalpha',\n",
       " 'isascii',\n",
       " 'isdecimal',\n",
       " 'isdigit',\n",
       " 'isidentifier',\n",
       " 'islower',\n",
       " 'isnumeric',\n",
       " 'isprintable',\n",
       " 'isspace',\n",
       " 'istitle',\n",
       " 'isupper',\n",
       " 'join',\n",
       " 'ljust',\n",
       " 'lower',\n",
       " 'lstrip',\n",
       " 'maketrans',\n",
       " 'partition',\n",
       " 'replace',\n",
       " 'rfind',\n",
       " 'rindex',\n",
       " 'rjust',\n",
       " 'rpartition',\n",
       " 'rsplit',\n",
       " 'rstrip',\n",
       " 'split',\n",
       " 'splitlines',\n",
       " 'startswith',\n",
       " 'strip',\n",
       " 'swapcase',\n",
       " 'title',\n",
       " 'translate',\n",
       " 'upper',\n",
       " 'zfill']"
      ]
     },
     "execution_count": 30,
     "metadata": {},
     "output_type": "execute_result"
    }
   ],
   "source": [
    "dir(s)"
   ]
  },
  {
   "cell_type": "code",
   "execution_count": 31,
   "id": "00b10f2a",
   "metadata": {},
   "outputs": [
    {
     "data": {
      "text/plain": [
       "'COST OF LIPSTICK IS 150 RS.'"
      ]
     },
     "execution_count": 31,
     "metadata": {},
     "output_type": "execute_result"
    }
   ],
   "source": [
    "s.upper()"
   ]
  },
  {
   "cell_type": "code",
   "execution_count": 33,
   "id": "8ec587b8",
   "metadata": {},
   "outputs": [
    {
     "data": {
      "text/plain": [
       "'abc'"
      ]
     },
     "execution_count": 33,
     "metadata": {},
     "output_type": "execute_result"
    }
   ],
   "source": [
    "'ABC'.lower()"
   ]
  },
  {
   "cell_type": "code",
   "execution_count": 34,
   "id": "6b5f697c",
   "metadata": {},
   "outputs": [
    {
     "data": {
      "text/plain": [
       "True"
      ]
     },
     "execution_count": 34,
     "metadata": {},
     "output_type": "execute_result"
    }
   ],
   "source": [
    "'410'.isdigit()"
   ]
  },
  {
   "cell_type": "code",
   "execution_count": 35,
   "id": "8c27c354",
   "metadata": {},
   "outputs": [
    {
     "data": {
      "text/plain": [
       "5"
      ]
     },
     "execution_count": 35,
     "metadata": {},
     "output_type": "execute_result"
    }
   ],
   "source": [
    "s.index('of')"
   ]
  },
  {
   "cell_type": "code",
   "execution_count": 36,
   "id": "e2ce01e7",
   "metadata": {},
   "outputs": [],
   "source": [
    "text=\"my age is:\"\n",
    "age=33"
   ]
  },
  {
   "cell_type": "code",
   "execution_count": 37,
   "id": "f448321d",
   "metadata": {},
   "outputs": [
    {
     "data": {
      "text/plain": [
       "'33'"
      ]
     },
     "execution_count": 37,
     "metadata": {},
     "output_type": "execute_result"
    }
   ],
   "source": [
    "str(age)"
   ]
  },
  {
   "cell_type": "code",
   "execution_count": 38,
   "id": "8b598299",
   "metadata": {},
   "outputs": [
    {
     "data": {
      "text/plain": [
       "'my age is:33 years'"
      ]
     },
     "execution_count": 38,
     "metadata": {},
     "output_type": "execute_result"
    }
   ],
   "source": [
    "text+str(age)+' years'"
   ]
  },
  {
   "cell_type": "code",
   "execution_count": 39,
   "id": "bbebe287",
   "metadata": {},
   "outputs": [
    {
     "data": {
      "text/plain": [
       "'my age is: 33 years'"
      ]
     },
     "execution_count": 39,
     "metadata": {},
     "output_type": "execute_result"
    }
   ],
   "source": [
    "f'my age is: {age} years'"
   ]
  },
  {
   "cell_type": "code",
   "execution_count": 42,
   "id": "746f7b30",
   "metadata": {},
   "outputs": [],
   "source": [
    "height=65\n",
    "weight=50"
   ]
  },
  {
   "cell_type": "code",
   "execution_count": 47,
   "id": "a7a4c2d9",
   "metadata": {},
   "outputs": [
    {
     "name": "stdout",
     "output_type": "stream",
     "text": [
      "Height:65 cm \n",
      "Weight:50 kg\n"
     ]
    }
   ],
   "source": [
    "patient_information= f'Height:{height} cm \\nWeight:{weight} kg'\n",
    "print(patient_information)"
   ]
  },
  {
   "cell_type": "code",
   "execution_count": 48,
   "id": "1e0a712a",
   "metadata": {},
   "outputs": [
    {
     "data": {
      "text/plain": [
       "True"
      ]
     },
     "execution_count": 48,
     "metadata": {},
     "output_type": "execute_result"
    }
   ],
   "source": [
    "my_fav_sweet = \"I love jalebi, kaju katli and laddu.\"\n",
    "\"Jalebi\" not in my_fav_sweet"
   ]
  },
  {
   "cell_type": "code",
   "execution_count": 49,
   "id": "1ec4fc29",
   "metadata": {},
   "outputs": [
    {
     "data": {
      "text/plain": [
       "0"
      ]
     },
     "execution_count": 49,
     "metadata": {},
     "output_type": "execute_result"
    }
   ],
   "source": [
    "my_fav_sweet.index(\"I\")"
   ]
  },
  {
   "cell_type": "code",
   "execution_count": 50,
   "id": "88560086",
   "metadata": {},
   "outputs": [
    {
     "name": "stdout",
     "output_type": "stream",
     "text": [
      "Skill\n"
     ]
    }
   ],
   "source": [
    "string = \"CodeBasics\"\n",
    "print(string[:4].replace(\"Code\", \"Skill\"))"
   ]
  },
  {
   "cell_type": "code",
   "execution_count": 51,
   "id": "7397466b",
   "metadata": {},
   "outputs": [
    {
     "data": {
      "text/plain": [
       "'Hello Python'"
      ]
     },
     "execution_count": 51,
     "metadata": {},
     "output_type": "execute_result"
    }
   ],
   "source": [
    "s=\"hello python\"\n",
    "s.title()"
   ]
  },
  {
   "cell_type": "code",
   "execution_count": null,
   "id": "b3a29add",
   "metadata": {},
   "outputs": [],
   "source": []
  }
 ],
 "metadata": {
  "kernelspec": {
   "display_name": "Python 3 (ipykernel)",
   "language": "python",
   "name": "python3"
  },
  "language_info": {
   "codemirror_mode": {
    "name": "ipython",
    "version": 3
   },
   "file_extension": ".py",
   "mimetype": "text/x-python",
   "name": "python",
   "nbconvert_exporter": "python",
   "pygments_lexer": "ipython3",
   "version": "3.8.10"
  }
 },
 "nbformat": 4,
 "nbformat_minor": 5
}

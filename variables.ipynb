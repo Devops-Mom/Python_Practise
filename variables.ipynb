{
 "cells": [
  {
   "cell_type": "code",
   "execution_count": 3,
   "id": "2b09fd13",
   "metadata": {},
   "outputs": [],
   "source": [
    "data1=\"sneha\""
   ]
  },
  {
   "cell_type": "code",
   "execution_count": 4,
   "id": "cc1dc633",
   "metadata": {},
   "outputs": [
    {
     "data": {
      "text/plain": [
       "'sneha'"
      ]
     },
     "execution_count": 4,
     "metadata": {},
     "output_type": "execute_result"
    }
   ],
   "source": [
    "data1"
   ]
  },
  {
   "cell_type": "code",
   "execution_count": 10,
   "id": "50821389",
   "metadata": {},
   "outputs": [],
   "source": [
    "pizza=10\n",
    "samosa=20\n",
    "icre_crm=10.5"
   ]
  },
  {
   "cell_type": "code",
   "execution_count": 11,
   "id": "ebb76257",
   "metadata": {},
   "outputs": [],
   "source": [
    "total =pizza+samosa+icre_crm"
   ]
  },
  {
   "cell_type": "code",
   "execution_count": 12,
   "id": "ea7fe4cd",
   "metadata": {},
   "outputs": [
    {
     "data": {
      "text/plain": [
       "40.5"
      ]
     },
     "execution_count": 12,
     "metadata": {},
     "output_type": "execute_result"
    }
   ],
   "source": [
    "total"
   ]
  },
  {
   "cell_type": "code",
   "execution_count": 14,
   "id": "a8355236",
   "metadata": {},
   "outputs": [
    {
     "data": {
      "text/plain": [
       "str"
      ]
     },
     "execution_count": 14,
     "metadata": {},
     "output_type": "execute_result"
    }
   ],
   "source": [
    "type(data1)\n"
   ]
  },
  {
   "cell_type": "code",
   "execution_count": 15,
   "id": "09b5d1ed",
   "metadata": {},
   "outputs": [
    {
     "data": {
      "text/plain": [
       "int"
      ]
     },
     "execution_count": 15,
     "metadata": {},
     "output_type": "execute_result"
    }
   ],
   "source": [
    "type(pizza)\n"
   ]
  },
  {
   "cell_type": "code",
   "execution_count": 18,
   "id": "02a9103f",
   "metadata": {},
   "outputs": [
    {
     "data": {
      "text/plain": [
       "float"
      ]
     },
     "execution_count": 18,
     "metadata": {},
     "output_type": "execute_result"
    }
   ],
   "source": [
    "type(total)"
   ]
  },
  {
   "cell_type": "code",
   "execution_count": 22,
   "id": "9667fa89",
   "metadata": {},
   "outputs": [
    {
     "data": {
      "text/plain": [
       "3.142857142857143"
      ]
     },
     "execution_count": 22,
     "metadata": {},
     "output_type": "execute_result"
    }
   ],
   "source": [
    "#Assignment 1 - Variables\n",
    "#Create a variable named pi and store the value 22/7 in it. Now check the data type of this variable.\n",
    "\n",
    "pi= 22/7\n",
    "pi\n"
   ]
  },
  {
   "cell_type": "code",
   "execution_count": 23,
   "id": "106d3c88",
   "metadata": {},
   "outputs": [
    {
     "data": {
      "text/plain": [
       "float"
      ]
     },
     "execution_count": 23,
     "metadata": {},
     "output_type": "execute_result"
    }
   ],
   "source": [
    "type(pi)"
   ]
  },
  {
   "cell_type": "code",
   "execution_count": 27,
   "id": "b6b03d13",
   "metadata": {},
   "outputs": [
    {
     "ename": "SyntaxError",
     "evalue": "invalid syntax (2646829127.py, line 4)",
     "output_type": "error",
     "traceback": [
      "\u001b[1;36m  Cell \u001b[1;32mIn[27], line 4\u001b[1;36m\u001b[0m\n\u001b[1;33m    for= 4\u001b[0m\n\u001b[1;37m       ^\u001b[0m\n\u001b[1;31mSyntaxError\u001b[0m\u001b[1;31m:\u001b[0m invalid syntax\n"
     ]
    }
   ],
   "source": [
    "#Assignment 2- Variables\n",
    "#Create a variable called for and assign it a value 4. See what happens and find out the reason behind the behavior that you see.\n",
    "\n",
    "for= 4"
   ]
  },
  {
   "cell_type": "code",
   "execution_count": 26,
   "id": "bc585799",
   "metadata": {},
   "outputs": [
    {
     "data": {
      "text/plain": [
       "80.0"
      ]
     },
     "execution_count": 26,
     "metadata": {},
     "output_type": "execute_result"
    }
   ],
   "source": [
    "#Assignment 3- Variables\n",
    "#Store the principal amount, rate of interest, and time in different variables and then calculate the Simple Interest for 3 years.\n",
    "\n",
    "principal_amt = 1000\n",
    "rate_of_int = 4\n",
    "time = 2\n",
    "\n",
    "simple_interest = principal_amt * rate_of_int * time /100\n",
    "simple_interest"
   ]
  },
  {
   "cell_type": "code",
   "execution_count": null,
   "id": "508cc1f9",
   "metadata": {},
   "outputs": [],
   "source": []
  }
 ],
 "metadata": {
  "kernelspec": {
   "display_name": "Python 3 (ipykernel)",
   "language": "python",
   "name": "python3"
  },
  "language_info": {
   "codemirror_mode": {
    "name": "ipython",
    "version": 3
   },
   "file_extension": ".py",
   "mimetype": "text/x-python",
   "name": "python",
   "nbconvert_exporter": "python",
   "pygments_lexer": "ipython3",
   "version": "3.8.10"
  }
 },
 "nbformat": 4,
 "nbformat_minor": 5
}

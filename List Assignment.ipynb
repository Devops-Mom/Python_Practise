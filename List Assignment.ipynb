{
 "cells": [
  {
   "cell_type": "markdown",
   "id": "10493ec7",
   "metadata": {},
   "source": [
    "***List Assignment\n",
    "You are a Marvel fan and created a list of superheroes.\n",
    "\n",
    "​​​​​​​avengers  = [\"Iron Man\", \"Captain America\", \"Black Widow\", \"Hulk\", \"Thor\", \"Hawkeye\"]\n",
    "\n",
    "Using this list, do the following:\n",
    "\n",
    "1-Calculate how many members are in the Avengers team?\n",
    "\n",
    "2-Iron Man made Spider-Man a new member of the Avengers, add him to your list.\n",
    "\n",
    "3-Captain America is the leader of the Avengers, you need to add him before Iron Man, so remove him from the list and add him before Iron Man.\n",
    "\n",
    "4-You don’t like Thor and Hulk together because they get angry easily and fight with each other. So you have to separate them from each other. To separate them, either move “Black Widow” or “Hawkeye” in between them.\n",
    "\n",
    "5-After Avengers: End Game the original six avengers are retired, now you need to remove them from your list and add new superheroes like Doctor Strange, Vision, Wanda, Kate Bishop, and Ant-Man.\n",
    "\n",
    "6-As “Captain America” is also retired and now currently, no one is the leader, so sort the list in alphabetical order. Whoever will come at the 0th index will become the Leader. (BONUS: can you guess who will become the leader)"
   ]
  },
  {
   "cell_type": "code",
   "execution_count": 15,
   "id": "1b937469",
   "metadata": {},
   "outputs": [],
   "source": [
    "avengers = [\"Iron Man\", \"Captain America\", \"Black Widow\", \"Hulk\", \"Thor\", \"Hawkeye\"]"
   ]
  },
  {
   "cell_type": "code",
   "execution_count": 16,
   "id": "1eb553df",
   "metadata": {},
   "outputs": [
    {
     "data": {
      "text/plain": [
       "6"
      ]
     },
     "execution_count": 16,
     "metadata": {},
     "output_type": "execute_result"
    }
   ],
   "source": [
    "#1-Calculate how many members are in the Avengers team?\n",
    "len(avengers)"
   ]
  },
  {
   "cell_type": "code",
   "execution_count": 17,
   "id": "fa48da20",
   "metadata": {},
   "outputs": [],
   "source": [
    "#2-Iron Man made Spider-Man a new member of the Avengers, add him to your list.\n",
    "\n",
    "avengers.append(\"Spider-Man\")"
   ]
  },
  {
   "cell_type": "code",
   "execution_count": 18,
   "id": "d0aaaa73",
   "metadata": {},
   "outputs": [
    {
     "data": {
      "text/plain": [
       "['Iron Man',\n",
       " 'Captain America',\n",
       " 'Black Widow',\n",
       " 'Hulk',\n",
       " 'Thor',\n",
       " 'Hawkeye',\n",
       " 'Spider-Man']"
      ]
     },
     "execution_count": 18,
     "metadata": {},
     "output_type": "execute_result"
    }
   ],
   "source": [
    "avengers"
   ]
  },
  {
   "cell_type": "code",
   "execution_count": 19,
   "id": "bca50840",
   "metadata": {},
   "outputs": [
    {
     "name": "stdout",
     "output_type": "stream",
     "text": [
      "['Iron Man', 'Captain America', 'Black Widow', 'Hulk', 'Thor', 'Hawkeye', 'Spider-Man']\n",
      "**** Print List after removal*******\n",
      "['Iron Man', 'Black Widow', 'Hulk', 'Thor', 'Hawkeye', 'Spider-Man']\n",
      "**** Print List after insertion ******\n",
      "['Captain America', 'Iron Man', 'Black Widow', 'Hulk', 'Thor', 'Hawkeye', 'Spider-Man']\n"
     ]
    }
   ],
   "source": [
    "#3-Captain America is the leader of the Avengers, you need to add him before Iron Man, so remove him from the list and add him before Iron Man.\n",
    "\n",
    "print(avengers)\n",
    "avengers.remove('Captain America')\n",
    "print(\"**** Print List after removal*******\")\n",
    "print(avengers)\n",
    "avengers.insert(0,'Captain America')\n",
    "print(\"**** Print List after insertion ******\")\n",
    "print(avengers)"
   ]
  },
  {
   "cell_type": "code",
   "execution_count": 20,
   "id": "9567a602",
   "metadata": {},
   "outputs": [
    {
     "data": {
      "text/plain": [
       "['Captain America',\n",
       " 'Iron Man',\n",
       " 'Black Widow',\n",
       " 'Hulk',\n",
       " 'Thor',\n",
       " 'Hawkeye',\n",
       " 'Spider-Man']"
      ]
     },
     "execution_count": 20,
     "metadata": {},
     "output_type": "execute_result"
    }
   ],
   "source": [
    "#4-You don’t like Thor and Hulk together because they get angry easily and fight with each other. So you have to separate them from each other. To separate them, either move “Black Widow” or “Hawkeye” in between them.\n",
    "avengers"
   ]
  },
  {
   "cell_type": "code",
   "execution_count": 23,
   "id": "b035334e",
   "metadata": {},
   "outputs": [],
   "source": [
    "avengers[2],avengers[3] = avengers[3],avengers[2]"
   ]
  },
  {
   "cell_type": "code",
   "execution_count": 24,
   "id": "be6d5238",
   "metadata": {},
   "outputs": [
    {
     "data": {
      "text/plain": [
       "['Captain America',\n",
       " 'Iron Man',\n",
       " 'Hulk',\n",
       " 'Black Widow',\n",
       " 'Thor',\n",
       " 'Hawkeye',\n",
       " 'Spider-Man']"
      ]
     },
     "execution_count": 24,
     "metadata": {},
     "output_type": "execute_result"
    }
   ],
   "source": [
    "avengers"
   ]
  },
  {
   "cell_type": "code",
   "execution_count": 25,
   "id": "ab1b8f74",
   "metadata": {},
   "outputs": [
    {
     "data": {
      "text/plain": [
       "'Captain America'"
      ]
     },
     "execution_count": 25,
     "metadata": {},
     "output_type": "execute_result"
    }
   ],
   "source": [
    "#5-After Avengers: End Game the original six avengers are retired, now you need to remove them from your list and add new superheroes like Doctor Strange, Vision, Wanda, Kate Bishop, and Ant-Man.\n",
    "avengers.pop(0)"
   ]
  },
  {
   "cell_type": "code",
   "execution_count": 26,
   "id": "8e6682a6",
   "metadata": {},
   "outputs": [
    {
     "data": {
      "text/plain": [
       "'Iron Man'"
      ]
     },
     "execution_count": 26,
     "metadata": {},
     "output_type": "execute_result"
    }
   ],
   "source": [
    "avengers.pop(0)"
   ]
  },
  {
   "cell_type": "code",
   "execution_count": 27,
   "id": "e7c673c2",
   "metadata": {},
   "outputs": [
    {
     "data": {
      "text/plain": [
       "'Hulk'"
      ]
     },
     "execution_count": 27,
     "metadata": {},
     "output_type": "execute_result"
    }
   ],
   "source": [
    "avengers.pop(0)"
   ]
  },
  {
   "cell_type": "code",
   "execution_count": 28,
   "id": "068e6b48",
   "metadata": {},
   "outputs": [
    {
     "data": {
      "text/plain": [
       "'Black Widow'"
      ]
     },
     "execution_count": 28,
     "metadata": {},
     "output_type": "execute_result"
    }
   ],
   "source": [
    "avengers.pop(0)"
   ]
  },
  {
   "cell_type": "code",
   "execution_count": 29,
   "id": "a3bf1cd9",
   "metadata": {},
   "outputs": [
    {
     "data": {
      "text/plain": [
       "'Thor'"
      ]
     },
     "execution_count": 29,
     "metadata": {},
     "output_type": "execute_result"
    }
   ],
   "source": [
    "avengers.pop(0)"
   ]
  },
  {
   "cell_type": "code",
   "execution_count": 30,
   "id": "3a817714",
   "metadata": {},
   "outputs": [
    {
     "data": {
      "text/plain": [
       "'Hawkeye'"
      ]
     },
     "execution_count": 30,
     "metadata": {},
     "output_type": "execute_result"
    }
   ],
   "source": [
    "avengers.pop(0)"
   ]
  },
  {
   "cell_type": "code",
   "execution_count": 31,
   "id": "bc8d6aff",
   "metadata": {},
   "outputs": [],
   "source": [
    "new_heros = ['Doctor Strange', 'Vision', 'Wanda', 'Kate Bishop','Ant-Man']"
   ]
  },
  {
   "cell_type": "code",
   "execution_count": 34,
   "id": "00d7de40",
   "metadata": {},
   "outputs": [
    {
     "data": {
      "text/plain": [
       "['Spider-Man', 'Doctor Strange', 'Vision', 'Wanda', 'Kate Bishop', 'Ant-Man']"
      ]
     },
     "execution_count": 34,
     "metadata": {},
     "output_type": "execute_result"
    }
   ],
   "source": [
    "avengers\n",
    "avengers = avengers + new_heros\n",
    "avengers"
   ]
  },
  {
   "cell_type": "code",
   "execution_count": 35,
   "id": "db859570",
   "metadata": {},
   "outputs": [],
   "source": [
    "avengers.sort()"
   ]
  },
  {
   "cell_type": "code",
   "execution_count": 36,
   "id": "b8de4989",
   "metadata": {},
   "outputs": [
    {
     "data": {
      "text/plain": [
       "['Ant-Man', 'Doctor Strange', 'Kate Bishop', 'Spider-Man', 'Vision', 'Wanda']"
      ]
     },
     "execution_count": 36,
     "metadata": {},
     "output_type": "execute_result"
    }
   ],
   "source": [
    "avengers"
   ]
  },
  {
   "cell_type": "code",
   "execution_count": null,
   "id": "8d960277",
   "metadata": {},
   "outputs": [],
   "source": [
    "n = 4\n",
    "\"odd number\""
   ]
  }
 ],
 "metadata": {
  "kernelspec": {
   "display_name": "Python 3 (ipykernel)",
   "language": "python",
   "name": "python3"
  },
  "language_info": {
   "codemirror_mode": {
    "name": "ipython",
    "version": 3
   },
   "file_extension": ".py",
   "mimetype": "text/x-python",
   "name": "python",
   "nbconvert_exporter": "python",
   "pygments_lexer": "ipython3",
   "version": "3.8.10"
  }
 },
 "nbformat": 4,
 "nbformat_minor": 5
}
